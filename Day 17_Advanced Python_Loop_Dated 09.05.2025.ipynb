{
 "cells": [
  {
   "cell_type": "code",
   "execution_count": 1,
   "id": "7ccb79bf",
   "metadata": {},
   "outputs": [
    {
     "name": "stdout",
     "output_type": "stream",
     "text": [
      "data science\n",
      "data science\n",
      "data science\n",
      "data science\n",
      "data science\n"
     ]
    }
   ],
   "source": [
    "print('data science')\n",
    "print('data science')\n",
    "print('data science')\n",
    "print('data science')    \n",
    "print('data science')"
   ]
  },
  {
   "cell_type": "code",
   "execution_count": 2,
   "id": "b5ef4746",
   "metadata": {},
   "outputs": [
    {
     "name": "stdout",
     "output_type": "stream",
     "text": [
      "data science\n",
      "data science\n",
      "data science\n",
      "data science\n",
      "data science\n"
     ]
    }
   ],
   "source": [
    "print('data science')\n",
    "print('data science')\n",
    "print('data science')\n",
    "print('data science')    \n",
    "print('data science')"
   ]
  },
  {
   "cell_type": "code",
   "execution_count": 3,
   "id": "f5dbc67b",
   "metadata": {},
   "outputs": [
    {
     "name": "stdout",
     "output_type": "stream",
     "text": [
      "data science: 1\n",
      "data science: 2\n",
      "data science: 3\n",
      "data science: 4\n",
      "data science: 5\n"
     ]
    }
   ],
   "source": [
    "i = 1          # initializing\n",
    "while i<=5:    # condition\n",
    "    print('data science:',i)\n",
    "    i = i + 1  # increment"
   ]
  },
  {
   "cell_type": "code",
   "execution_count": 4,
   "id": "edebb049",
   "metadata": {},
   "outputs": [
    {
     "name": "stdout",
     "output_type": "stream",
     "text": [
      "data science: 5\n",
      "data science: 4\n",
      "data science: 3\n",
      "data science: 2\n",
      "data science: 1\n"
     ]
    }
   ],
   "source": [
    "i = 5          # initializing\n",
    "\n",
    "while i>=1: # condition\n",
    "    print('data science:', i)\n",
    "    i = i - 1  # increment"
   ]
  },
  {
   "cell_type": "code",
   "execution_count": 5,
   "id": "1b09172d",
   "metadata": {},
   "outputs": [
    {
     "name": "stdout",
     "output_type": "stream",
     "text": [
      "data science\n",
      "technology\n",
      "technology\n",
      "technology\n",
      "technology\n",
      "\n",
      "data science\n",
      "technology\n",
      "technology\n",
      "technology\n",
      "technology\n",
      "\n",
      "data science\n",
      "technology\n",
      "technology\n",
      "technology\n",
      "technology\n",
      "\n",
      "data science\n",
      "technology\n",
      "technology\n",
      "technology\n",
      "technology\n",
      "\n",
      "data science\n",
      "technology\n",
      "technology\n",
      "technology\n",
      "technology\n",
      "\n"
     ]
    }
   ],
   "source": [
    "i = 1\n",
    "while i<=5:\n",
    "    print('data science') \n",
    "    j = 1\n",
    "    while j<=4:\n",
    "        print('technology')\n",
    "        j = j + 1\n",
    "        \n",
    "    i = i + 1\n",
    "    print()"
   ]
  },
  {
   "cell_type": "code",
   "execution_count": 6,
   "id": "0689599f",
   "metadata": {},
   "outputs": [
    {
     "name": "stdout",
     "output_type": "stream",
     "text": [
      " data science technology technology technology technology\n",
      " data science technology technology technology technology\n",
      " data science technology technology technology technology\n",
      " data science technology technology technology technology\n",
      " data science technology technology technology technology\n"
     ]
    }
   ],
   "source": [
    "i = 1\n",
    "while i<=5:\n",
    "    print(' data science', end = \"\") # when we mention end then new line will not create\n",
    "    j = 1\n",
    "    while j<=4:\n",
    "        print(' technology', end=\"\")\n",
    "        j = j + 1\n",
    "        \n",
    "    i = i + 1\n",
    "    print()"
   ]
  },
  {
   "cell_type": "code",
   "execution_count": 7,
   "id": "d7847ae9",
   "metadata": {},
   "outputs": [
    {
     "name": "stdout",
     "output_type": "stream",
     "text": [
      "0 1 2 3 \n",
      "0 2 4 6 \n",
      "0 3 6 9 \n",
      "0 4 8 12 \n"
     ]
    }
   ],
   "source": [
    "i = 1\n",
    "while i <= 4 :\n",
    "    j = 0\n",
    "    while  j <= 3 :\n",
    "        print(i*j, end=\" \")\n",
    "        j += 1\n",
    "    print()\n",
    "    i += 1"
   ]
  },
  {
   "cell_type": "code",
   "execution_count": 8,
   "id": "076d6c59",
   "metadata": {},
   "outputs": [
    {
     "name": "stdout",
     "output_type": "stream",
     "text": [
      "n\n",
      "i\n",
      "t\n"
     ]
    }
   ],
   "source": [
    "name = 'nit'\n",
    "for i in name:\n",
    "    print(i)"
   ]
  },
  {
   "cell_type": "code",
   "execution_count": 9,
   "id": "72e8a3c3",
   "metadata": {},
   "outputs": [
    {
     "name": "stdout",
     "output_type": "stream",
     "text": [
      "1\n",
      "3.5\n",
      "hallo\n"
     ]
    }
   ],
   "source": [
    "name1 = [1,3.5,'hallo'] #i want print the value individualy\n",
    "for i in name1:\n",
    "    print(i)"
   ]
  },
  {
   "cell_type": "code",
   "execution_count": 10,
   "id": "c27024ca",
   "metadata": {},
   "outputs": [
    {
     "name": "stdout",
     "output_type": "stream",
     "text": [
      "2\n",
      "3\n",
      "7.8\n",
      "hi\n"
     ]
    }
   ],
   "source": [
    "for i in [2, 3, 7.8, 'hi']:\n",
    "    print(i)"
   ]
  },
  {
   "cell_type": "code",
   "execution_count": 11,
   "id": "53965398",
   "metadata": {},
   "outputs": [
    {
     "name": "stdout",
     "output_type": "stream",
     "text": [
      "0\n",
      "1\n",
      "2\n",
      "3\n",
      "4\n"
     ]
    }
   ],
   "source": [
    "for i in range(5):\n",
    "    print(i)"
   ]
  },
  {
   "cell_type": "code",
   "execution_count": 12,
   "id": "0278d797",
   "metadata": {},
   "outputs": [
    {
     "name": "stdout",
     "output_type": "stream",
     "text": [
      "1\n",
      "4\n",
      "7\n"
     ]
    }
   ],
   "source": [
    "for i in range(1,10,3):\n",
    "    print(i)"
   ]
  },
  {
   "cell_type": "code",
   "execution_count": 13,
   "id": "fd3c5c8b",
   "metadata": {},
   "outputs": [
    {
     "name": "stdout",
     "output_type": "stream",
     "text": [
      "5\n",
      "10\n",
      "15\n",
      "20\n",
      "25\n",
      "30\n",
      "35\n",
      "40\n",
      "45\n",
      "50\n"
     ]
    }
   ],
   "source": [
    "for i in range(1,51):\n",
    "    \n",
    "    if i%5==0 :\n",
    "        print(i)"
   ]
  },
  {
   "cell_type": "code",
   "execution_count": 14,
   "id": "a56a3eac",
   "metadata": {},
   "outputs": [
    {
     "name": "stdout",
     "output_type": "stream",
     "text": [
      "1\n",
      "2\n",
      "3\n",
      "4\n",
      "6\n",
      "7\n",
      "8\n",
      "9\n",
      "11\n",
      "12\n",
      "13\n",
      "14\n",
      "16\n",
      "17\n",
      "18\n",
      "19\n",
      "21\n",
      "22\n",
      "23\n",
      "24\n",
      "26\n",
      "27\n",
      "28\n",
      "29\n",
      "31\n",
      "32\n",
      "33\n",
      "34\n",
      "36\n",
      "37\n",
      "38\n",
      "39\n",
      "41\n",
      "42\n",
      "43\n",
      "44\n",
      "46\n",
      "47\n",
      "48\n",
      "49\n"
     ]
    }
   ],
   "source": [
    "for i in range(1,51):\n",
    "    \n",
    "    if i%5!=0 :\n",
    "        print(i)"
   ]
  },
  {
   "cell_type": "code",
   "execution_count": 15,
   "id": "4e08ca1a",
   "metadata": {},
   "outputs": [
    {
     "name": "stdout",
     "output_type": "stream",
     "text": [
      "1\n",
      "2\n",
      "3\n",
      "4\n",
      "5\n",
      "6\n",
      "7\n",
      "8\n",
      "9\n",
      "10\n"
     ]
    }
   ],
   "source": [
    "for i in range(1,11):\n",
    "    print(i)"
   ]
  },
  {
   "cell_type": "code",
   "execution_count": 16,
   "id": "51c5624f",
   "metadata": {},
   "outputs": [
    {
     "name": "stdout",
     "output_type": "stream",
     "text": [
      "1\n",
      "2\n",
      "3\n",
      "4\n"
     ]
    }
   ],
   "source": [
    "for i in range(1,11):\n",
    "    if i == 5:\n",
    "        break \n",
    "    print(i)"
   ]
  },
  {
   "cell_type": "code",
   "execution_count": 17,
   "id": "7a546f14",
   "metadata": {},
   "outputs": [
    {
     "name": "stdout",
     "output_type": "stream",
     "text": [
      "1\n",
      "2\n",
      "3\n",
      "4\n",
      "5\n",
      "6\n"
     ]
    }
   ],
   "source": [
    "for i in range(1,11):\n",
    "    if i == 7:\n",
    "        break \n",
    "    print(i)"
   ]
  },
  {
   "cell_type": "code",
   "execution_count": 18,
   "id": "15c43a25",
   "metadata": {},
   "outputs": [
    {
     "name": "stdout",
     "output_type": "stream",
     "text": [
      "1\n",
      "2\n",
      "3\n",
      "4\n",
      "5\n",
      "6\n",
      "8\n",
      "9\n",
      "10\n"
     ]
    }
   ],
   "source": [
    "for i in range(1,11):\n",
    "    if i == 7:\n",
    "        continue \n",
    "    print(i)"
   ]
  },
  {
   "cell_type": "code",
   "execution_count": 19,
   "id": "0e13fd67",
   "metadata": {},
   "outputs": [
    {
     "name": "stdout",
     "output_type": "stream",
     "text": [
      "hello  1\n",
      "hello  2\n",
      "hello  3\n",
      "hello  4\n",
      "hello  6\n",
      "hello  7\n",
      "hello  8\n",
      "hello  9\n",
      "hello  10\n"
     ]
    }
   ],
   "source": [
    "for i in range(1,11):\n",
    "    if i == 5:\n",
    "        continue \n",
    "    print('hello ',i)    "
   ]
  },
  {
   "cell_type": "code",
   "execution_count": 21,
   "id": "6393d880",
   "metadata": {},
   "outputs": [
    {
     "ename": "_IncompleteInputError",
     "evalue": "incomplete input (1334445784.py, line 1)",
     "output_type": "error",
     "traceback": [
      "  \u001b[36mCell\u001b[39m\u001b[36m \u001b[39m\u001b[32mIn[21]\u001b[39m\u001b[32m, line 1\u001b[39m\n\u001b[31m    \u001b[39m\u001b[31mfor i in range(1,11):\u001b[39m\n                         ^\n\u001b[31m_IncompleteInputError\u001b[39m\u001b[31m:\u001b[39m incomplete input\n"
     ]
    }
   ],
   "source": [
    "for i in range(1,11):"
   ]
  },
  {
   "cell_type": "code",
   "execution_count": 22,
   "id": "7849c3a8",
   "metadata": {},
   "outputs": [],
   "source": [
    "for i in range(1,11):\n",
    "    pass"
   ]
  },
  {
   "cell_type": "code",
   "execution_count": 27,
   "id": "7eea6c7c",
   "metadata": {},
   "outputs": [
    {
     "name": "stdout",
     "output_type": "stream",
     "text": [
      "3\n",
      "6\n",
      "9\n",
      "12\n",
      "15\n",
      "18\n",
      "21\n",
      "24\n",
      "27\n",
      "30\n",
      "33\n",
      "36\n",
      "39\n",
      "42\n",
      "45\n",
      "48\n",
      "end\n"
     ]
    }
   ],
   "source": [
    "for i in range(1,51):\n",
    "    if i%3 == 0:\n",
    "     print(i)\n",
    "print('end') "
   ]
  },
  {
   "cell_type": "code",
   "execution_count": 29,
   "id": "e1ce5f89",
   "metadata": {},
   "outputs": [
    {
     "name": "stdout",
     "output_type": "stream",
     "text": [
      "1\n",
      "2\n",
      "4\n",
      "5\n",
      "7\n",
      "8\n",
      "10\n",
      "11\n",
      "13\n",
      "14\n",
      "16\n",
      "17\n",
      "19\n",
      "20\n",
      "22\n",
      "23\n",
      "25\n",
      "26\n",
      "28\n",
      "29\n",
      "31\n",
      "32\n",
      "34\n",
      "35\n",
      "37\n",
      "38\n",
      "40\n",
      "41\n",
      "43\n",
      "44\n",
      "46\n",
      "47\n",
      "49\n",
      "50\n",
      "end\n"
     ]
    }
   ],
   "source": [
    "for i in range(1,51):\n",
    "    if i%3 == 0: \n",
    "        continue\n",
    "    print(i)\n",
    "print('end')"
   ]
  },
  {
   "cell_type": "code",
   "execution_count": 30,
   "id": "e1f53244",
   "metadata": {},
   "outputs": [
    {
     "name": "stdout",
     "output_type": "stream",
     "text": [
      "1\n",
      "2\n",
      "4\n",
      "7\n",
      "8\n",
      "11\n",
      "13\n",
      "14\n",
      "16\n",
      "17\n",
      "19\n",
      "22\n",
      "23\n",
      "26\n",
      "28\n",
      "29\n",
      "31\n",
      "32\n",
      "34\n",
      "37\n",
      "38\n",
      "41\n",
      "43\n",
      "44\n",
      "46\n",
      "47\n",
      "49\n",
      "end\n"
     ]
    }
   ],
   "source": [
    "for i in range(1,51):\n",
    "    if i%3 == 0 or i%5 == 0:\n",
    "        continue\n",
    "    print(i)\n",
    "print('end')"
   ]
  },
  {
   "cell_type": "code",
   "execution_count": 31,
   "id": "7198d1fa",
   "metadata": {},
   "outputs": [
    {
     "name": "stdout",
     "output_type": "stream",
     "text": [
      "1\n",
      "2\n",
      "3\n",
      "4\n",
      "5\n",
      "6\n",
      "7\n",
      "8\n",
      "9\n",
      "10\n",
      "11\n",
      "12\n",
      "13\n",
      "14\n",
      "16\n",
      "17\n",
      "18\n",
      "19\n",
      "20\n",
      "21\n",
      "22\n",
      "23\n",
      "24\n",
      "25\n",
      "26\n",
      "27\n",
      "28\n",
      "29\n",
      "31\n",
      "32\n",
      "33\n",
      "34\n",
      "35\n",
      "36\n",
      "37\n",
      "38\n",
      "39\n",
      "40\n",
      "41\n",
      "42\n",
      "43\n",
      "44\n",
      "46\n",
      "47\n",
      "48\n",
      "49\n",
      "50\n",
      "end\n"
     ]
    }
   ],
   "source": [
    "for i in range(1,51):\n",
    "    if i%3 == 0 and i%5 == 0:\n",
    "        continue\n",
    "    print(i)\n",
    "print('end')"
   ]
  },
  {
   "cell_type": "code",
   "execution_count": 32,
   "id": "f851f2a2",
   "metadata": {},
   "outputs": [
    {
     "name": "stdout",
     "output_type": "stream",
     "text": [
      "1\n",
      "3\n",
      "5\n",
      "7\n",
      "9\n",
      "11\n",
      "13\n",
      "15\n",
      "17\n",
      "19\n",
      "21\n",
      "23\n",
      "25\n",
      "27\n",
      "29\n",
      "31\n",
      "33\n",
      "35\n",
      "37\n",
      "39\n",
      "41\n",
      "43\n",
      "45\n",
      "47\n",
      "49\n",
      "bye\n"
     ]
    }
   ],
   "source": [
    "for i in range(1,50):\n",
    "    \n",
    "    if (i%2 == 0):\n",
    "        pass\n",
    "    else:\n",
    "        print(i)\n",
    "print('bye')"
   ]
  },
  {
   "cell_type": "code",
   "execution_count": 33,
   "id": "edc0a9c9",
   "metadata": {},
   "outputs": [
    {
     "name": "stdout",
     "output_type": "stream",
     "text": [
      "2\n",
      "4\n",
      "6\n",
      "8\n",
      "10\n",
      "12\n",
      "14\n",
      "16\n",
      "18\n",
      "20\n",
      "22\n",
      "24\n",
      "26\n",
      "28\n",
      "30\n",
      "32\n",
      "34\n",
      "36\n",
      "38\n",
      "40\n",
      "42\n",
      "44\n",
      "46\n",
      "48\n",
      "bye\n"
     ]
    }
   ],
   "source": [
    "for i in range(1,50):\n",
    "    \n",
    "    if (i%2 != 0):\n",
    "        pass\n",
    "    else:\n",
    "        print(i)\n",
    "print('bye')"
   ]
  },
  {
   "cell_type": "code",
   "execution_count": 34,
   "id": "b4a1c716",
   "metadata": {},
   "outputs": [
    {
     "name": "stdout",
     "output_type": "stream",
     "text": [
      "# # # #\n",
      "# # # #\n",
      "# # # #\n",
      "# # # #\n"
     ]
    }
   ],
   "source": [
    "print('# # # #')\n",
    "print('# # # #')\n",
    "print('# # # #')\n",
    "print('# # # #')"
   ]
  },
  {
   "cell_type": "code",
   "execution_count": 35,
   "id": "30fe234a",
   "metadata": {},
   "outputs": [
    {
     "name": "stdout",
     "output_type": "stream",
     "text": [
      "# # # # "
     ]
    }
   ],
   "source": [
    "for j in range(4):\n",
    "    print('#', end=\" \")"
   ]
  },
  {
   "cell_type": "code",
   "execution_count": 36,
   "id": "6d9da506",
   "metadata": {},
   "outputs": [
    {
     "name": "stdout",
     "output_type": "stream",
     "text": [
      "#  #  #  #  \n",
      "#  #  #  #  \n",
      "#  #  #  #  \n",
      "#  #  #  #  \n"
     ]
    }
   ],
   "source": [
    "for i in range(4):\n",
    "    for j in range(4):\n",
    "        print('#', end=\"  \")\n",
    "    print()"
   ]
  }
 ],
 "metadata": {
  "kernelspec": {
   "display_name": "Python 3",
   "language": "python",
   "name": "python3"
  },
  "language_info": {
   "codemirror_mode": {
    "name": "ipython",
    "version": 3
   },
   "file_extension": ".py",
   "mimetype": "text/x-python",
   "name": "python",
   "nbconvert_exporter": "python",
   "pygments_lexer": "ipython3",
   "version": "3.13.3"
  }
 },
 "nbformat": 4,
 "nbformat_minor": 5
}
